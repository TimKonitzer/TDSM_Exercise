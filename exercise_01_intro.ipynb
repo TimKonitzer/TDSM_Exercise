{
 "cells": [
  {
   "cell_type": "markdown",
   "metadata": {},
   "source": [
    "# Intro: Egg Sales of a local Sri Lankan shop over 30 years 🥚\n",
    "\n",
    "### We took the data from a kaggle challenge [[DATASET]](https://www.kaggle.com/datasets/kanchana1990/egg-sales-of-a-local-shop-for-30-years?resource=download)\n",
    "```\n",
    "Feel free to explore kaggle for more interesting dataset and replecate to following exercises using your favorite find\n",
    "```\n"
   ]
  },
  {
   "cell_type": "markdown",
   "metadata": {},
   "source": [
    "## Data exploration and visualization"
   ]
  },
  {
   "cell_type": "markdown",
   "metadata": {},
   "source": [
    "### We use [pandas](https://pandas.pydata.org/) to read in the csv-file that is located under `./egg_data/`. Usually csv-Files are seperated by the `,` symbol. In our case the author of the csv used `;` so keep that in mind when reading in the csv-File\n",
    "[[pandas documentation]](https://pandas.pydata.org/docs/)"
   ]
  },
  {
   "cell_type": "code",
   "execution_count": null,
   "metadata": {},
   "outputs": [],
   "source": [
    "import pandas as pd\n",
    "\n",
    "\n",
    "#print some informations about the dataset"
   ]
  },
  {
   "cell_type": "markdown",
   "metadata": {},
   "source": [
    "### Above you can see, that we printed some information about the dataset using various functions that pandas provides. For further intuition it is also important to plot columns (in our case only 'Egg Sales').\n",
    "\n",
    "### For this task we can utilize librarys like [matplotlib.pyplot](https://matplotlib.org/stable/api/pyplot_summary.html) or use the build in [pandas function](https://pandas.pydata.org/docs/user_guide/visualization.html) `.plot` that can be performed on the dataframes."
   ]
  },
  {
   "cell_type": "code",
   "execution_count": null,
   "metadata": {},
   "outputs": [],
   "source": [
    "#plot the entire egg sales data"
   ]
  },
  {
   "cell_type": "markdown",
   "metadata": {},
   "source": [
    "### We can directly see that the amount of daily sales increases over time asweel as an anomaly around 2020. We can now further investigate by ploting specific timeframes of the data. In our case we want to take a closer look at 2020."
   ]
  },
  {
   "cell_type": "code",
   "execution_count": null,
   "metadata": {},
   "outputs": [],
   "source": [
    "#plot only the year 2020 egg sale data"
   ]
  },
  {
   "cell_type": "markdown",
   "metadata": {},
   "source": [
    "### It seems that April 2020 values are missing. This can be caused by different reasons: bad logging of the data, sensors might have not worked in this period or the shop was closed during this period. If you find such anomalies it is important to communicate with the author of the dataset or experts that might offer insight, so we can answer the question whether it is important to keep such anomalies inside our data. "
   ]
  },
  {
   "cell_type": "markdown",
   "metadata": {},
   "source": [
    "### As for now we assume that is related to the global pandemic and a short period of lockdown where the shop was closed"
   ]
  },
  {
   "cell_type": "markdown",
   "metadata": {},
   "source": [
    "### The final task of this excercise is to write a function that takes in a pandas dataframe, a timeframe and plots the true values aswell as the mean for a rolling window which is also an input.\n",
    " example header of the function: `def fancy_plot(dataframe, start, end, window_size)`"
   ]
  },
  {
   "cell_type": "code",
   "execution_count": null,
   "metadata": {},
   "outputs": [],
   "source": [
    "def plot_sales_and_mean(dataframe:pd.DataFrame, start:str,end:str, window_size:int):\n",
    "    \"\"\"\n",
    "    This function plots the sales and the rolling mean of the sales for the given timeframe and window size.\n",
    "    \"\"\"\n",
    "    # assert that start has to be before end\n",
    "    \n",
    "    # select the timeframe from the dataframe\n",
    "    \n",
    "    \n",
    "    # calculate the rolling mean\n",
    "    \n",
    "    # plot the sales and the rolling mean\n",
    "    \n"
   ]
  },
  {
   "cell_type": "code",
   "execution_count": null,
   "metadata": {},
   "outputs": [],
   "source": [
    "plot_sales_and_mean(egg_df, '2001','2001', 7)"
   ]
  }
 ],
 "metadata": {
  "kernelspec": {
   "display_name": ".venv",
   "language": "python",
   "name": "python3"
  },
  "language_info": {
   "codemirror_mode": {
    "name": "ipython",
    "version": 3
   },
   "file_extension": ".py",
   "mimetype": "text/x-python",
   "name": "python",
   "nbconvert_exporter": "python",
   "pygments_lexer": "ipython3",
   "version": "3.10.12"
  }
 },
 "nbformat": 4,
 "nbformat_minor": 2
}
